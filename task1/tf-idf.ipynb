{
 "metadata": {
  "language_info": {
   "codemirror_mode": {
    "name": "ipython",
    "version": 3
   },
   "file_extension": ".py",
   "mimetype": "text/x-python",
   "name": "python",
   "nbconvert_exporter": "python",
   "pygments_lexer": "ipython3",
   "version": "3.7.7"
  },
  "orig_nbformat": 2,
  "kernelspec": {
   "name": "python377jvsc74a57bd0628363986120f8dc964d79c6d3326a61b13597d9b8b585345c68f675f700b0d2",
   "display_name": "Python 3.7.7 64-bit"
  }
 },
 "nbformat": 4,
 "nbformat_minor": 2,
 "cells": [
  {
   "cell_type": "code",
   "execution_count": 2,
   "metadata": {},
   "outputs": [],
   "source": [
    "import pickle\n",
    "\n",
    "from sklearn.feature_extraction.text import CountVectorizer\n",
    "from sklearn.feature_extraction.text import TfidfVectorizer\n",
    "\n",
    "from sklearn.linear_model import LogisticRegression\n",
    "from sklearn.naive_bayes import MultinomialNB\n",
    "from sklearn.neighbors import KNeighborsClassifier\n",
    "from sklearn.svm import SVC\n",
    "from sklearn.tree import DecisionTreeClassifier\n",
    "\n",
    "from sklearn.metrics import classification_report\n",
    "from sklearn.metrics import accuracy_score"
   ]
  },
  {
   "cell_type": "code",
   "execution_count": 15,
   "metadata": {},
   "outputs": [],
   "source": [
    "data_path = \"../../deft_corpus/data/deft_files/\"\n",
    "train_path = data_path + \"train.pkl\"\n",
    "valid_path = data_path + \"dev.pkl\"\n",
    "test_path = data_path + \"test.pkl\"\n",
    "\n",
    "def load_data(file):\n",
    "    with open(file, \"rb\") as f:\n",
    "        data = pickle.load(f)\n",
    "    return data\n",
    "\n",
    "train_x, train_y = load_data(train_path)\n",
    "valid_x, valid_y = load_data(valid_path)\n",
    "test_x, test_y = load_data(test_path)\n",
    "str_train_x = [\" \".join(lst) for lst in train_x]\n",
    "str_valid_x = [\" \".join(lst) for lst in valid_x]\n",
    "str_test_x = [\" \".join(lst) for lst in test_x]"
   ]
  },
  {
   "cell_type": "code",
   "execution_count": 48,
   "metadata": {},
   "outputs": [
    {
     "output_type": "stream",
     "name": "stdout",
     "text": [
      "17731\n872\n858\n"
     ]
    }
   ],
   "source": [
    "print(len(train_x))\n",
    "print(len(valid_x))\n",
    "print(len(test_x))"
   ]
  },
  {
   "cell_type": "code",
   "execution_count": 45,
   "metadata": {},
   "outputs": [
    {
     "output_type": "execute_result",
     "data": {
      "text/plain": [
       "[1, 0, 0, 0, 1, 1, 1, 0, 0, 1, 0, 0, 0, 0, 1, 1, 0, 1, 0, 1]"
      ]
     },
     "metadata": {},
     "execution_count": 45
    }
   ],
   "source": [
    "train_y[:20]"
   ]
  },
  {
   "cell_type": "code",
   "execution_count": 47,
   "metadata": {},
   "outputs": [
    {
     "output_type": "execute_result",
     "data": {
      "text/plain": [
       "'There are three primary forms of collective behavior : the crowd , the mass , and the public'"
      ]
     },
     "metadata": {},
     "execution_count": 47
    }
   ],
   "source": [
    "str_train_x[1]"
   ]
  },
  {
   "cell_type": "code",
   "execution_count": 39,
   "metadata": {},
   "outputs": [],
   "source": [
    "# count_vect = CountVectorizer(stop_words='english', decode_error='ignore')\n",
    "# train_x_counts = count_vect.fit_transform(str_train_x)\n",
    "\n",
    "tfidf = TfidfVectorizer(stop_words='english', decode_error='ignore')\n",
    "train_x_counts_tf = tfidf.fit_transform(str_train_x)\n",
    "valid_x_counts_tf = tfidf.transform(str_valid_x)\n",
    "test_x_counts_tf = tfidf.transform(str_test_x)"
   ]
  },
  {
   "cell_type": "code",
   "execution_count": 40,
   "metadata": {},
   "outputs": [],
   "source": [
    "models = {}\n",
    "models[\"LR\"] = LogisticRegression()\n",
    "models[\"SVM\"] = SVC()\n",
    "models[\"CART\"] = DecisionTreeClassifier()\n",
    "models[\"MNB\"] = MultinomialNB()\n",
    "models[\"KNN\"] = KNeighborsClassifier()\n",
    "results = {}"
   ]
  },
  {
   "cell_type": "code",
   "execution_count": 41,
   "metadata": {},
   "outputs": [],
   "source": [
    "for key in models:\n",
    "    model = models[key]\n",
    "    model.fit(train_x_counts_tf, train_y)\n",
    "    predictions = model.predict(test_x_counts_tf)\n",
    "    results[key] = classification_report(test_y, predictions)"
   ]
  },
  {
   "cell_type": "code",
   "execution_count": 44,
   "metadata": {},
   "outputs": [
    {
     "output_type": "stream",
     "name": "stdout",
     "text": [
      "LR\n              precision    recall  f1-score   support\n\n           0       0.74      0.92      0.82       579\n           1       0.67      0.32      0.44       279\n\n    accuracy                           0.73       858\n   macro avg       0.71      0.62      0.63       858\nweighted avg       0.72      0.73      0.70       858\n\n\nSVM\n              precision    recall  f1-score   support\n\n           0       0.77      0.94      0.84       579\n           1       0.77      0.40      0.53       279\n\n    accuracy                           0.77       858\n   macro avg       0.77      0.67      0.69       858\nweighted avg       0.77      0.77      0.74       858\n\n\nCART\n              precision    recall  f1-score   support\n\n           0       0.77      0.83      0.80       579\n           1       0.57      0.47      0.52       279\n\n    accuracy                           0.71       858\n   macro avg       0.67      0.65      0.66       858\nweighted avg       0.70      0.71      0.71       858\n\n\nMNB\n              precision    recall  f1-score   support\n\n           0       0.71      0.96      0.82       579\n           1       0.71      0.19      0.30       279\n\n    accuracy                           0.71       858\n   macro avg       0.71      0.58      0.56       858\nweighted avg       0.71      0.71      0.65       858\n\n\nKNN\n              precision    recall  f1-score   support\n\n           0       0.68      1.00      0.81       579\n           1       0.71      0.02      0.03       279\n\n    accuracy                           0.68       858\n   macro avg       0.70      0.51      0.42       858\nweighted avg       0.69      0.68      0.56       858\n\n\n"
     ]
    }
   ],
   "source": [
    "for key in results:\n",
    "    print(key)\n",
    "    print(results[key])\n",
    "    print()"
   ]
  }
 ]
}
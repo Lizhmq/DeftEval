{
 "metadata": {
  "orig_nbformat": 2,
  "kernelspec": {
   "name": "python3",
   "display_name": "Python 3.7.7 64-bit ('py37': conda)"
  }
 },
 "nbformat": 4,
 "nbformat_minor": 2,
 "cells": [
  {
   "cell_type": "code",
   "execution_count": 3,
   "metadata": {},
   "outputs": [],
   "source": [
    "import pickle\n",
    "import os"
   ]
  },
  {
   "cell_type": "code",
   "execution_count": 2,
   "metadata": {},
   "outputs": [],
   "source": [
    "train_path = \"../../deft_corpus/data/deft_files/train\"\n",
    "dev_path = \"../../deft_corpus/data/deft_files/dev\"\n",
    "test_path = \"../../deft_corpus/data/test_files/labeled/subtask_1\""
   ]
  },
  {
   "cell_type": "code",
   "execution_count": 3,
   "metadata": {},
   "outputs": [],
   "source": [
    "def read_file(file):\n",
    "    xs, ys = [], []\n",
    "    with open(file) as f:\n",
    "        for line in f.readlines():\n",
    "            # print(line)\n",
    "            x, y = line.split(\"\\t\")\n",
    "            x = x.split(\" \")[1:-1]\n",
    "            if len(x) == 0:\n",
    "                continue\n",
    "            ys.append(int(y[1]))\n",
    "            xs.append(x)\n",
    "    return xs, ys\n",
    "\n",
    "def read_folder(path):\n",
    "    xs, ys = [], []\n",
    "    for file in os.listdir(path):\n",
    "        if file.startswith(\"task_1\"):\n",
    "            p = os.path.join(path, file)\n",
    "            xx, yy = read_file(p)\n",
    "            xs.extend(xx)\n",
    "            ys.extend(yy)\n",
    "    return xs, ys"
   ]
  },
  {
   "cell_type": "code",
   "execution_count": 9,
   "metadata": {
    "tags": []
   },
   "outputs": [],
   "source": [
    "xs, ys = read_folder(train_path)\n",
    "xs2, ys2 = read_folder(dev_path)"
   ]
  },
  {
   "cell_type": "code",
   "execution_count": 6,
   "metadata": {},
   "outputs": [],
   "source": [
    "xs3, ys3 = read_folder(test_path)"
   ]
  },
  {
   "cell_type": "code",
   "execution_count": 9,
   "metadata": {},
   "outputs": [
    {
     "output_type": "execute_result",
     "data": {
      "text/plain": [
       "858"
      ]
     },
     "metadata": {},
     "execution_count": 9
    }
   ],
   "source": [
    "len(xs3)"
   ]
  },
  {
   "cell_type": "code",
   "execution_count": 10,
   "metadata": {},
   "outputs": [],
   "source": [
    "def save(xs, ys, file):\n",
    "    with open(file, \"wb\") as f:\n",
    "        pickle.dump((xs, ys), f)"
   ]
  },
  {
   "cell_type": "code",
   "execution_count": 11,
   "metadata": {},
   "outputs": [],
   "source": [
    "train_save = \"../../deft_corpus/data/deft_files/train.pkl\"\n",
    "dev_save = \"../../deft_corpus/data/deft_files/dev.pkl\"\n",
    "test_save = \"../../deft_corpus/data/deft_files/test.pkl\"\n",
    "# save(xs, ys, train_save)\n",
    "# save(xs2, ys2, dev_save)\n",
    "# save(xs3, ys3, test_save)"
   ]
  },
  {
   "cell_type": "code",
   "execution_count": null,
   "metadata": {},
   "outputs": [],
   "source": []
  },
  {
   "cell_type": "code",
   "execution_count": 15,
   "metadata": {},
   "outputs": [
    {
     "output_type": "stream",
     "name": "stdout",
     "text": [
      "17731 872\n5776\n1 132 25.301336642039367\n"
     ]
    }
   ],
   "source": [
    "print(len(xs), len(xs2))\n",
    "lens = list(map(len, xs))\n",
    "print(sum(ys))\n",
    "print(min(lens), max(lens), sum(lens) / len(lens))"
   ]
  },
  {
   "source": [
    "[\" \".join(x) for x in xs[:10]]"
   ],
   "cell_type": "code",
   "metadata": {},
   "execution_count": 14,
   "outputs": [
    {
     "output_type": "execute_result",
     "data": {
      "text/plain": [
       "['5301 . In short , collective behavior is any group behavior that is not mandated or regulated by an institution',\n",
       " 'There are three primary forms of collective behavior : the crowd , the mass , and the public',\n",
       " 'It takes a fairly large number of people in close proximity to form a crowd ( Lofland 1993 )',\n",
       " 'Examples include a group of people attending an Ani DiFranco concert , tailgating at a Patriots game , or attending a worship service',\n",
       " '5304 . Conventional crowds are those who come together for a scheduled event that occurs regularly , like a religious service',\n",
       " 'Expressive crowds are people who join together to express emotion , often at funerals , weddings , or the like',\n",
       " 'The final type , acting crowds , focuses on a specific goal or action , such as a protest movement or riot',\n",
       " 'In addition to the different types of crowds , collective groups can also be identified in two other ways',\n",
       " '5313 . Sociologist David Aberle ( 1966 ) addresses this question by developing categories that distinguish among social movements based on what they want to change and how much change they want',\n",
       " 'Reform movements seek to change something specific about the social structure']"
      ]
     },
     "metadata": {},
     "execution_count": 14
    }
   ]
  },
  {
   "cell_type": "code",
   "execution_count": 32,
   "metadata": {},
   "outputs": [
    {
     "output_type": "execute_result",
     "data": {
      "text/plain": [
       "[1, 0, 0, 0, 1, 1, 1, 0, 0, 1]"
      ]
     },
     "metadata": {},
     "execution_count": 32
    }
   ],
   "source": [
    "ys[:10]"
   ]
  },
  {
   "cell_type": "code",
   "execution_count": 2,
   "metadata": {},
   "outputs": [],
   "source": [
    "def read_pkl(filename):\n",
    "    with open(filename, \"rb\") as f:\n",
    "        obj = pickle.load(f)\n",
    "    return obj"
   ]
  },
  {
   "cell_type": "code",
   "execution_count": 77,
   "metadata": {},
   "outputs": [
    {
     "output_type": "stream",
     "name": "stdout",
     "text": [
      "Total examples: 17819 positive: 5782\n"
     ]
    }
   ],
   "source": [
    "dic = read_pkl(\"../../deft_corpus/data/deft_files/all_train.pkl\")\n",
    "print(f\"Total examples: {len(dic['y'])}\", f\"positive: {sum(dic['y'])}\")"
   ]
  },
  {
   "cell_type": "code",
   "execution_count": 78,
   "metadata": {},
   "outputs": [
    {
     "output_type": "stream",
     "name": "stdout",
     "text": [
      "Total examples: 872 positive: 284\n"
     ]
    }
   ],
   "source": [
    "dic = read_pkl(\"../../deft_corpus/data/deft_files/all_dev.pkl\")\n",
    "print(f\"Total examples: {len(dic['y'])}\", f\"positive: {sum(dic['y'])}\")"
   ]
  },
  {
   "cell_type": "code",
   "execution_count": 94,
   "metadata": {},
   "outputs": [
    {
     "output_type": "stream",
     "name": "stdout",
     "text": [
      "Total examples: 859\npositive: 279\n"
     ]
    }
   ],
   "source": [
    "dic = read_pkl(\"../../deft_corpus/data/deft_files/test1.pkl\")\n",
    "print(f\"Total examples: {len(dic['y'])}\")\n",
    "print(f\"positive: {sum(dic['y'])}\")"
   ]
  },
  {
   "cell_type": "code",
   "execution_count": 93,
   "metadata": {},
   "outputs": [
    {
     "output_type": "execute_result",
     "data": {
      "text/plain": [
       "'\" 26 . Living things are highly organized and structured , following a hierarchy that can be examined on a scale from small to large .\"'"
      ]
     },
     "metadata": {},
     "execution_count": 93
    }
   ],
   "source": [
    "dic[\"x\"][0]"
   ]
  },
  {
   "cell_type": "code",
   "execution_count": 85,
   "metadata": {},
   "outputs": [
    {
     "output_type": "execute_result",
     "data": {
      "text/plain": [
       "[[], [], []]"
      ]
     },
     "metadata": {},
     "execution_count": 85
    }
   ],
   "source": [
    "dic[\"tag\"][:3]"
   ]
  },
  {
   "cell_type": "code",
   "execution_count": 13,
   "metadata": {},
   "outputs": [
    {
     "output_type": "stream",
     "name": "stdout",
     "text": [
      "Total examples: 885 positive: 293\n"
     ]
    }
   ],
   "source": [
    "dic2 = read_pkl(\"../../deft_corpus/data/deft_files/test2.pkl\")\n",
    "print(f\"Total examples: {len(dic2['y'])}\", f\"positive: {sum(dic2['y'])}\")"
   ]
  },
  {
   "cell_type": "code",
   "execution_count": 14,
   "metadata": {},
   "outputs": [
    {
     "output_type": "execute_result",
     "data": {
      "text/plain": [
       "[331, 332, 335, 335, 364, 376, 382, 413, 416, 440]"
      ]
     },
     "metadata": {},
     "execution_count": 14
    }
   ],
   "source": [
    "sorted(list(map(len, dic2['x'])))[-10:]"
   ]
  },
  {
   "cell_type": "code",
   "execution_count": 89,
   "metadata": {},
   "outputs": [
    {
     "output_type": "execute_result",
     "data": {
      "text/plain": [
       "[' 26 . Living things are highly organized and structured , following a hierarchy that can be examined on a scale from small to large .',\n",
       " ' The atom is the smallest and most fundamental unit of matter .',\n",
       " ' It consists of a nucleus surrounded by electrons .']"
      ]
     },
     "metadata": {},
     "execution_count": 89
    }
   ],
   "source": [
    "dic2[\"x\"][:3]"
   ]
  },
  {
   "cell_type": "code",
   "execution_count": 30,
   "metadata": {},
   "outputs": [
    {
     "output_type": "execute_result",
     "data": {
      "text/plain": [
       "'-1 -1 -1 -1 -1 -1 -1 -1 -1 -1 -1 -1 -1 -1 -1 -1 -1 -1 -1 -1 -1 -1 -1 -1 -1 -1 -1 -1 -1 -1 -1 -1 -1 T127 T127 T127 T127 T127 T127 T127 T127 T127 T127 T127 T127 T127 T127 -1 -1 T128 T128 -1 -1 -1 -1 -1 -1 -1 -1 -1 -1 -1 -1 -1 -1 -1 -1 -1'"
      ]
     },
     "metadata": {},
     "execution_count": 30
    }
   ],
   "source": [
    "\" \".join(dic[\"tag\"][0])"
   ]
  },
  {
   "cell_type": "code",
   "execution_count": 31,
   "metadata": {},
   "outputs": [
    {
     "output_type": "execute_result",
     "data": {
      "text/plain": [
       "'0 0 0 0 0 0 0 0 0 0 0 0 0 0 0 0 0 0 0 0 0 0 0 0 0 0 0 0 0 0 0 0 0 Direct-Defines Direct-Defines Direct-Defines Direct-Defines Direct-Defines Direct-Defines Direct-Defines Direct-Defines Direct-Defines Direct-Defines Direct-Defines Direct-Defines Direct-Defines Direct-Defines 0 0 0 0 0 0 0 0 0 0 0 0 0 0 0 0 0 0 0 0 0'"
      ]
     },
     "metadata": {},
     "execution_count": 31
    }
   ],
   "source": [
    "\" \".join(dic[\"target\"][0])"
   ]
  },
  {
   "cell_type": "code",
   "execution_count": 51,
   "metadata": {},
   "outputs": [],
   "source": [
    "ls = []\n",
    "for x in dic[\"x\"]:\n",
    "    ls.append(len(x))"
   ]
  },
  {
   "cell_type": "code",
   "execution_count": 47,
   "metadata": {},
   "outputs": [
    {
     "output_type": "execute_result",
     "data": {
      "text/plain": [
       "36"
      ]
     },
     "metadata": {},
     "execution_count": 47
    }
   ],
   "source": [
    "min(ls)"
   ]
  },
  {
   "cell_type": "code",
   "execution_count": 58,
   "metadata": {},
   "outputs": [],
   "source": [
    "path = \"../../deft_corpus/data/source_txt/dev/\"\n",
    "lines = 0\n",
    "for file in os.listdir(path):\n",
    "    with open(os.path.join(path, file)) as f:\n",
    "        lines += len(f.readlines())"
   ]
  },
  {
   "cell_type": "code",
   "execution_count": 59,
   "metadata": {},
   "outputs": [
    {
     "output_type": "execute_result",
     "data": {
      "text/plain": [
       "307"
      ]
     },
     "metadata": {},
     "execution_count": 59
    }
   ],
   "source": [
    "lines"
   ]
  },
  {
   "cell_type": "code",
   "execution_count": null,
   "metadata": {},
   "outputs": [],
   "source": []
  }
 ]
}
{
 "metadata": {
  "orig_nbformat": 2,
  "kernelspec": {
   "name": "python377jvsc74a57bd0628363986120f8dc964d79c6d3326a61b13597d9b8b585345c68f675f700b0d2",
   "display_name": "Python 3.7.7 64-bit ('py37': conda)"
  }
 },
 "nbformat": 4,
 "nbformat_minor": 2,
 "cells": [
  {
   "cell_type": "code",
   "execution_count": 3,
   "metadata": {},
   "outputs": [],
   "source": [
    "import pickle\n",
    "import os"
   ]
  },
  {
   "cell_type": "code",
   "execution_count": 4,
   "metadata": {},
   "outputs": [],
   "source": [
    "train_path = \"../../deft_corpus/data/deft_files/train\"\n",
    "dev_path = \"../../deft_corpus/data/deft_files/dev\""
   ]
  },
  {
   "cell_type": "code",
   "execution_count": 8,
   "metadata": {},
   "outputs": [],
   "source": [
    "def read_file(file):\n",
    "    xs, ys = [], []\n",
    "    with open(file) as f:\n",
    "        for line in f.readlines():\n",
    "            # print(line)\n",
    "            x, y = line.split(\"\\t\")\n",
    "            x = x.split(\" \")[1:-1]\n",
    "            if len(x) == 0:\n",
    "                continue\n",
    "            ys.append(int(y[1]))\n",
    "            xs.append(x)\n",
    "    return xs, ys\n",
    "\n",
    "def read_folder(path):\n",
    "    xs, ys = [], []\n",
    "    for file in os.listdir(path):\n",
    "        if file.startswith(\"task_1\"):\n",
    "            p = os.path.join(path, file)\n",
    "            xx, yy = read_file(p)\n",
    "            xs.extend(xx)\n",
    "            ys.extend(yy)\n",
    "    return xs, ys"
   ]
  },
  {
   "cell_type": "code",
   "execution_count": 9,
   "metadata": {
    "tags": []
   },
   "outputs": [],
   "source": [
    "xs, ys = read_folder(train_path)\n",
    "xs2, ys2 = read_folder(dev_path)"
   ]
  },
  {
   "cell_type": "code",
   "execution_count": 10,
   "metadata": {},
   "outputs": [
    {
     "output_type": "execute_result",
     "data": {
      "text/plain": [
       "17731"
      ]
     },
     "metadata": {},
     "execution_count": 10
    }
   ],
   "source": [
    "len(ys)"
   ]
  },
  {
   "cell_type": "code",
   "execution_count": 11,
   "metadata": {},
   "outputs": [],
   "source": [
    "def save(xs, ys, file):\n",
    "    with open(file, \"wb\") as f:\n",
    "        pickle.dump((xs, ys), f)"
   ]
  },
  {
   "cell_type": "code",
   "execution_count": 12,
   "metadata": {},
   "outputs": [],
   "source": [
    "train_save = \"../../deft_corpus/data/deft_files/train.pkl\"\n",
    "dev_save = \"../../deft_corpus/data/deft_files/dev.pkl\"\n",
    "save(xs, ys, train_save)\n",
    "save(xs2, ys2, dev_save)"
   ]
  },
  {
   "cell_type": "code",
   "execution_count": null,
   "metadata": {},
   "outputs": [],
   "source": []
  },
  {
   "cell_type": "code",
   "execution_count": 15,
   "metadata": {},
   "outputs": [
    {
     "output_type": "stream",
     "name": "stdout",
     "text": [
      "17731 872\n5776\n1 132 25.301336642039367\n"
     ]
    }
   ],
   "source": [
    "print(len(xs), len(xs2))\n",
    "lens = list(map(len, xs))\n",
    "print(sum(ys))\n",
    "print(min(lens), max(lens), sum(lens) / len(lens))"
   ]
  },
  {
   "source": [
    "[\" \".join(x) for x in xs[:10]]"
   ],
   "cell_type": "code",
   "metadata": {},
   "execution_count": 14,
   "outputs": [
    {
     "output_type": "execute_result",
     "data": {
      "text/plain": [
       "['5301 . In short , collective behavior is any group behavior that is not mandated or regulated by an institution',\n",
       " 'There are three primary forms of collective behavior : the crowd , the mass , and the public',\n",
       " 'It takes a fairly large number of people in close proximity to form a crowd ( Lofland 1993 )',\n",
       " 'Examples include a group of people attending an Ani DiFranco concert , tailgating at a Patriots game , or attending a worship service',\n",
       " '5304 . Conventional crowds are those who come together for a scheduled event that occurs regularly , like a religious service',\n",
       " 'Expressive crowds are people who join together to express emotion , often at funerals , weddings , or the like',\n",
       " 'The final type , acting crowds , focuses on a specific goal or action , such as a protest movement or riot',\n",
       " 'In addition to the different types of crowds , collective groups can also be identified in two other ways',\n",
       " '5313 . Sociologist David Aberle ( 1966 ) addresses this question by developing categories that distinguish among social movements based on what they want to change and how much change they want',\n",
       " 'Reform movements seek to change something specific about the social structure']"
      ]
     },
     "metadata": {},
     "execution_count": 14
    }
   ]
  },
  {
   "cell_type": "code",
   "execution_count": 32,
   "metadata": {},
   "outputs": [
    {
     "output_type": "execute_result",
     "data": {
      "text/plain": [
       "[1, 0, 0, 0, 1, 1, 1, 0, 0, 1]"
      ]
     },
     "metadata": {},
     "execution_count": 32
    }
   ],
   "source": [
    "ys[:10]"
   ]
  }
 ]
}